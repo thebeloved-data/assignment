{
 "cells": [
  {
   "cell_type": "code",
   "execution_count": 1,
   "id": "d7a08108-1e72-49b3-916c-2ec59f9e1e89",
   "metadata": {},
   "outputs": [
    {
     "name": "stdin",
     "output_type": "stream",
     "text": [
      "add a number 4\n",
      "add a number 6\n"
     ]
    },
    {
     "name": "stdout",
     "output_type": "stream",
     "text": [
      "total score 10\n"
     ]
    }
   ],
   "source": [
    "x = input(\"add a number\")\n",
    "y = input (\"add a number\")\n",
    "\n",
    "x = int(x.strip())\n",
    "y = int(y.strip())\n",
    "\n",
    "print( \"total score\", x + y) \n"
   ]
  },
  {
   "cell_type": "code",
   "execution_count": 18,
   "id": "7cef70c4-65d8-4c1e-805d-53ce4f0fc397",
   "metadata": {},
   "outputs": [
    {
     "name": "stdin",
     "output_type": "stream",
     "text": [
      "add a number 6\n",
      "add a number 6\n"
     ]
    },
    {
     "name": "stdout",
     "output_type": "stream",
     "text": [
      "36\n"
     ]
    }
   ],
   "source": [
    "x = int(input(\"add a number\"), )\n",
    "y = int(input(\"add a number\"), )\n",
    "print(\"total\", x*y)"
   ]
  },
  {
   "cell_type": "code",
   "execution_count": 17,
   "id": "4a4b48b0-4917-47ee-b29f-f6c35a0e991e",
   "metadata": {},
   "outputs": [
    {
     "name": "stdin",
     "output_type": "stream",
     "text": [
      "enter a name darasimi-\n",
      "enter a name micheal\n"
     ]
    },
    {
     "name": "stdout",
     "output_type": "stream",
     "text": [
      "Hi! darasimi-micheal\n"
     ]
    }
   ],
   "source": [
    "var1 = input(\"enter a name\")\n",
    "var2= input(\"enter a name\")\n",
    "\n",
    "var1 = (var1.strip())\n",
    "var2 = (var2.strip())\n",
    "print(\"Hi!\",  var1 + var2)"
   ]
  },
  {
   "cell_type": "code",
   "execution_count": null,
   "id": "f8b64ca1-58ef-4fc2-a083-d8bc58e36dfe",
   "metadata": {},
   "outputs": [],
   "source": []
  }
 ],
 "metadata": {
  "kernelspec": {
   "display_name": "Python 3 (ipykernel)",
   "language": "python",
   "name": "python3"
  },
  "language_info": {
   "codemirror_mode": {
    "name": "ipython",
    "version": 3
   },
   "file_extension": ".py",
   "mimetype": "text/x-python",
   "name": "python",
   "nbconvert_exporter": "python",
   "pygments_lexer": "ipython3",
   "version": "3.12.9"
  }
 },
 "nbformat": 4,
 "nbformat_minor": 5
}
