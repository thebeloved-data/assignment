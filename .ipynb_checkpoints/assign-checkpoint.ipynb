{
 "cells": [
  {
   "cell_type": "code",
   "execution_count": 3,
   "id": "d7a08108-1e72-49b3-916c-2ec59f9e1e89",
   "metadata": {},
   "outputs": [
    {
     "name": "stdin",
     "output_type": "stream",
     "text": [
      "add a number 6\n",
      "add a number 6\n"
     ]
    },
    {
     "name": "stdout",
     "output_type": "stream",
     "text": [
      "12\n"
     ]
    }
   ],
   "source": [
    "x = int(input(\"add a number\"), \")\n",
    "y = int(input (\"add a number\"),)\n",
    "print(x + y)\n"
   ]
  },
  {
   "cell_type": "code",
   "execution_count": null,
   "id": "7cef70c4-65d8-4c1e-805d-53ce4f0fc397",
   "metadata": {},
   "outputs": [],
   "source": [
    "x = int(input(\"add a number\"), )\n",
    "y = int(input(\"add a number\"), )\n",
    "print(x*y)"
   ]
  },
  {
   "cell_type": "code",
   "execution_count": 11,
   "id": "b9f206a3-42ff-4f2c-8f0e-c01d4a2499b7",
   "metadata": {},
   "outputs": [
    {
     "name": "stdin",
     "output_type": "stream",
     "text": [
      "enter a number:  6\n",
      "enter a number:  7\n"
     ]
    },
    {
     "name": "stdout",
     "output_type": "stream",
     "text": [
      "total number: 13\n"
     ]
    }
   ],
   "source": [
    "value1 = input( \"enter a number: \")\n",
    "value2 = input( \"enter a number: \")\n",
    "\n",
    "value1 = int(value1)\n",
    "value2 = int(value2)\n",
    "print(\"total number:\", value1 + value2 )"
   ]
  }
 ],
 "metadata": {
  "kernelspec": {
   "display_name": "Python 3 (ipykernel)",
   "language": "python",
   "name": "python3"
  },
  "language_info": {
   "codemirror_mode": {
    "name": "ipython",
    "version": 3
   },
   "file_extension": ".py",
   "mimetype": "text/x-python",
   "name": "python",
   "nbconvert_exporter": "python",
   "pygments_lexer": "ipython3",
   "version": "3.12.9"
  }
 },
 "nbformat": 4,
 "nbformat_minor": 5
}
