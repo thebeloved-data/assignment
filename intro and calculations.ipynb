{
 "cells": [
  {
   "cell_type": "code",
   "execution_count": 3,
   "id": "31a93c12-78d6-458b-8468-5f70e02a4528",
   "metadata": {},
   "outputs": [
    {
     "name": "stdout",
     "output_type": "stream",
     "text": [
      "This is my first tutorial\n"
     ]
    }
   ],
   "source": [
    "# testing the mic.\n",
    "print (\"This is my first tutorial\")"
   ]
  },
  {
   "cell_type": "code",
   "execution_count": 8,
   "id": "69895640-5a30-4c61-b9ac-d170e2e0df14",
   "metadata": {},
   "outputs": [
    {
     "name": "stdout",
     "output_type": "stream",
     "text": [
      "I hope this will be exciting..\n"
     ]
    }
   ],
   "source": [
    "print (\"I hope this will be exciting..\")"
   ]
  },
  {
   "cell_type": "code",
   "execution_count": 15,
   "id": "3897edf4-a6b0-4528-80f2-531bbb6899eb",
   "metadata": {},
   "outputs": [
    {
     "name": "stdout",
     "output_type": "stream",
     "text": [
      " yesterday's class was fun\n"
     ]
    }
   ],
   "source": [
    "# using a single appros while having a possesive appros in the sentence requires a '\\' to work\n",
    "print (' yesterday\\'s class was fun')"
   ]
  },
  {
   "cell_type": "code",
   "execution_count": 20,
   "id": "912976f9-779e-4ee8-9719-5364ca8dabe0",
   "metadata": {},
   "outputs": [
    {
     "name": "stdout",
     "output_type": "stream",
     "text": [
      "yestesday's class was fun\n"
     ]
    }
   ],
   "source": [
    "# using a double appros while having a possesive appros in the sentence will work without adding a '\\'\n",
    "print (\"yestesday's class was fun\")"
   ]
  },
  {
   "cell_type": "code",
   "execution_count": 23,
   "id": "3d635634-f57e-467f-a7f6-aa4cd86b7df3",
   "metadata": {},
   "outputs": [],
   "source": [
    "# ARITHMETIC OPERATION"
   ]
  },
  {
   "cell_type": "code",
   "execution_count": 25,
   "id": "efbd7a19-2867-4d01-9265-7047ccdd180e",
   "metadata": {},
   "outputs": [
    {
     "data": {
      "text/plain": [
       "10"
      ]
     },
     "execution_count": 25,
     "metadata": {},
     "output_type": "execute_result"
    }
   ],
   "source": [
    "# Addiiction & subtraction\n",
    "4 + 6"
   ]
  },
  {
   "cell_type": "code",
   "execution_count": 29,
   "id": "6319b8c7-4ff1-4a71-bdae-68277fba0816",
   "metadata": {},
   "outputs": [
    {
     "name": "stdout",
     "output_type": "stream",
     "text": [
      "10\n"
     ]
    }
   ],
   "source": [
    "print ( 4 + 6)"
   ]
  },
  {
   "cell_type": "code",
   "execution_count": 31,
   "id": "e540ed38-0f8a-414d-ba18-8c1fccb943cd",
   "metadata": {},
   "outputs": [
    {
     "data": {
      "text/plain": [
       "4"
      ]
     },
     "execution_count": 31,
     "metadata": {},
     "output_type": "execute_result"
    }
   ],
   "source": [
    "6-2"
   ]
  },
  {
   "cell_type": "code",
   "execution_count": 32,
   "id": "ddd3c570-a702-4cdc-899f-db0c83cd39aa",
   "metadata": {},
   "outputs": [
    {
     "data": {
      "text/plain": [
       "8"
      ]
     },
     "execution_count": 32,
     "metadata": {},
     "output_type": "execute_result"
    }
   ],
   "source": [
    "7+4-3"
   ]
  },
  {
   "cell_type": "code",
   "execution_count": 35,
   "id": "963405a1-215e-4fcc-b4c4-279dfec7b7ff",
   "metadata": {},
   "outputs": [],
   "source": [
    "# MULTIPLICATION AND DIVISION"
   ]
  },
  {
   "cell_type": "code",
   "execution_count": 36,
   "id": "ebdf2567-180f-4dea-9fdf-53eb18d712e0",
   "metadata": {},
   "outputs": [
    {
     "data": {
      "text/plain": [
       "120"
      ]
     },
     "execution_count": 36,
     "metadata": {},
     "output_type": "execute_result"
    }
   ],
   "source": [
    "10*2*6"
   ]
  },
  {
   "cell_type": "code",
   "execution_count": 37,
   "id": "e077af9e-f577-4aa3-9fa4-bfb4c2cb64b0",
   "metadata": {},
   "outputs": [
    {
     "name": "stdout",
     "output_type": "stream",
     "text": [
      "40\n"
     ]
    }
   ],
   "source": [
    "print( 20*2*1)"
   ]
  },
  {
   "cell_type": "code",
   "execution_count": 38,
   "id": "2b427868-7865-4820-a171-b8bd9c405db5",
   "metadata": {},
   "outputs": [
    {
     "data": {
      "text/plain": [
       "3.3333333333333335"
      ]
     },
     "execution_count": 38,
     "metadata": {},
     "output_type": "execute_result"
    }
   ],
   "source": [
    "10/3"
   ]
  },
  {
   "cell_type": "code",
   "execution_count": 39,
   "id": "aa2c40b9-a460-444f-bee0-0e8c2d5313a7",
   "metadata": {},
   "outputs": [
    {
     "data": {
      "text/plain": [
       "4.0"
      ]
     },
     "execution_count": 39,
     "metadata": {},
     "output_type": "execute_result"
    }
   ],
   "source": [
    "8/2"
   ]
  },
  {
   "cell_type": "code",
   "execution_count": 41,
   "id": "f95aead9-cc4f-4fce-b4d3-26626b5fd7f6",
   "metadata": {},
   "outputs": [
    {
     "data": {
      "text/plain": [
       "81"
      ]
     },
     "execution_count": 41,
     "metadata": {},
     "output_type": "execute_result"
    }
   ],
   "source": [
    "# exponetial power\n",
    "\n",
    "pow(9,2)"
   ]
  },
  {
   "cell_type": "code",
   "execution_count": 45,
   "id": "c77f9967-ba0f-47c0-8681-8bcc6f625407",
   "metadata": {},
   "outputs": [
    {
     "data": {
      "text/plain": [
       "100"
      ]
     },
     "execution_count": 45,
     "metadata": {},
     "output_type": "execute_result"
    }
   ],
   "source": [
    "pow(10,2)"
   ]
  },
  {
   "cell_type": "code",
   "execution_count": 48,
   "id": "64b37691-fd79-42ec-89d0-0f4afbdb2082",
   "metadata": {},
   "outputs": [
    {
     "data": {
      "text/plain": [
       "2.5"
      ]
     },
     "execution_count": 48,
     "metadata": {},
     "output_type": "execute_result"
    }
   ],
   "source": [
    "# quotient is used to turn a float into an interger and neglecting the remainder\n",
    "\n",
    "10/4"
   ]
  },
  {
   "cell_type": "code",
   "execution_count": 56,
   "id": "8b6d0466-dcfc-4124-b841-d93cf07eb1ba",
   "metadata": {},
   "outputs": [
    {
     "data": {
      "text/plain": [
       "2"
      ]
     },
     "execution_count": 56,
     "metadata": {},
     "output_type": "execute_result"
    }
   ],
   "source": [
    "10//4"
   ]
  },
  {
   "cell_type": "code",
   "execution_count": 60,
   "id": "2056eb7d-4165-4a4e-bd38-d04938b1d0b1",
   "metadata": {},
   "outputs": [
    {
     "data": {
      "text/plain": [
       "2"
      ]
     },
     "execution_count": 60,
     "metadata": {},
     "output_type": "execute_result"
    }
   ],
   "source": [
    "# MODULE \n",
    "\n",
    "57%5"
   ]
  },
  {
   "cell_type": "code",
   "execution_count": 61,
   "id": "52f517d8-0211-456b-b896-44d1950fac1d",
   "metadata": {},
   "outputs": [
    {
     "data": {
      "text/plain": [
       "1"
      ]
     },
     "execution_count": 61,
     "metadata": {},
     "output_type": "execute_result"
    }
   ],
   "source": [
    "67%3"
   ]
  },
  {
   "cell_type": "code",
   "execution_count": 63,
   "id": "a01c60b0-9034-46ff-89db-433580c90980",
   "metadata": {},
   "outputs": [
    {
     "data": {
      "text/plain": [
       "17"
      ]
     },
     "execution_count": 63,
     "metadata": {},
     "output_type": "execute_result"
    }
   ],
   "source": [
    "# but to get the original answer, multiply the Quotient answer with the with the dividing number then add the module answer\n",
    "\n",
    "70//4"
   ]
  },
  {
   "cell_type": "code",
   "execution_count": 65,
   "id": "11967265-2397-4b6e-8e2e-d797916b5fe7",
   "metadata": {},
   "outputs": [
    {
     "data": {
      "text/plain": [
       "2"
      ]
     },
     "execution_count": 65,
     "metadata": {},
     "output_type": "execute_result"
    }
   ],
   "source": [
    "70%4"
   ]
  },
  {
   "cell_type": "code",
   "execution_count": 66,
   "id": "82c407bc-0d2d-4d7a-a8d0-e40e4d118c5b",
   "metadata": {},
   "outputs": [
    {
     "data": {
      "text/plain": [
       "70"
      ]
     },
     "execution_count": 66,
     "metadata": {},
     "output_type": "execute_result"
    }
   ],
   "source": [
    "17*4+2"
   ]
  },
  {
   "cell_type": "code",
   "execution_count": null,
   "id": "d7012756-19f6-4816-959a-ce27cd36c21d",
   "metadata": {},
   "outputs": [],
   "source": [
    "x = 6\n",
    "\n",
    "y=5"
   ]
  },
  {
   "cell_type": "code",
   "execution_count": 12,
   "id": "f00f4ac8-b3e2-41f7-8bff-62eb90ede1a4",
   "metadata": {},
   "outputs": [
    {
     "name": "stdin",
     "output_type": "stream",
     "text": [
      "x: 5\n",
      "y: 6\n"
     ]
    },
    {
     "ename": "NameError",
     "evalue": "name 'x' is not defined",
     "output_type": "error",
     "traceback": [
      "\u001b[1;31m---------------------------------------------------------------------------\u001b[0m",
      "\u001b[1;31mNameError\u001b[0m                                 Traceback (most recent call last)",
      "Cell \u001b[1;32mIn[12], line 3\u001b[0m\n\u001b[0;32m      1\u001b[0m fname \u001b[38;5;241m=\u001b[39m \u001b[38;5;28minput\u001b[39m( \u001b[38;5;124m\"\u001b[39m\u001b[38;5;124mx:\u001b[39m\u001b[38;5;124m\"\u001b[39m)\n\u001b[0;32m      2\u001b[0m lname \u001b[38;5;241m=\u001b[39m \u001b[38;5;28minput\u001b[39m ( \u001b[38;5;124m\"\u001b[39m\u001b[38;5;124my:\u001b[39m\u001b[38;5;124m\"\u001b[39m)\n\u001b[1;32m----> 3\u001b[0m \u001b[38;5;28mprint\u001b[39m ( \u001b[38;5;124mf\u001b[39m\u001b[38;5;124m\"\u001b[39m\u001b[38;5;124myour full name: \u001b[39m\u001b[38;5;132;01m{\u001b[39;00mx\u001b[38;5;132;01m=}\u001b[39;00m\u001b[38;5;124m + \u001b[39m\u001b[38;5;132;01m{\u001b[39;00my\u001b[38;5;132;01m=}\u001b[39;00m\u001b[38;5;124m\"\u001b[39m )\n",
      "\u001b[1;31mNameError\u001b[0m: name 'x' is not defined"
     ]
    }
   ],
   "source": [
    "fname = input( \"x:\")\n",
    "lname = input ( \"y:\")\n",
    "print ( f\"your full name: {x=} + {y=}\" )"
   ]
  },
  {
   "cell_type": "code",
   "execution_count": null,
   "id": "d56983a4-68b6-4ffc-bf72-fccf0427731c",
   "metadata": {},
   "outputs": [],
   "source": []
  }
 ],
 "metadata": {
  "kernelspec": {
   "display_name": "Python 3 (ipykernel)",
   "language": "python",
   "name": "python3"
  },
  "language_info": {
   "codemirror_mode": {
    "name": "ipython",
    "version": 3
   },
   "file_extension": ".py",
   "mimetype": "text/x-python",
   "name": "python",
   "nbconvert_exporter": "python",
   "pygments_lexer": "ipython3",
   "version": "3.12.9"
  }
 },
 "nbformat": 4,
 "nbformat_minor": 5
}
