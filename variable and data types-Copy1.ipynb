{
 "cells": [
  {
   "cell_type": "code",
   "execution_count": 2,
   "id": "e875993d-ae5b-4101-b359-4dd71ce92243",
   "metadata": {},
   "outputs": [],
   "source": [
    "# VARIABLES AND DATA TYPES"
   ]
  },
  {
   "cell_type": "code",
   "execution_count": 16,
   "id": "eb4a88da-3e0b-4dba-a37b-d732ddd399e9",
   "metadata": {},
   "outputs": [],
   "source": [
    "print = 20\n"
   ]
  },
  {
   "cell_type": "code",
   "execution_count": 4,
   "id": "daee2099-24b1-44c7-86a0-cac3aa1f3800",
   "metadata": {},
   "outputs": [
    {
     "data": {
      "text/plain": [
       "20"
      ]
     },
     "execution_count": 4,
     "metadata": {},
     "output_type": "execute_result"
    }
   ],
   "source": [
    "print"
   ]
  },
  {
   "cell_type": "markdown",
   "id": "f107b157-6dcf-4074-86b7-0107c2a04ed3",
   "metadata": {},
   "source": [
    "# arithmetic operation"
   ]
  },
  {
   "cell_type": "code",
   "execution_count": 12,
   "id": "03d594c0-cba7-4fd9-9bae-beadf3464b8c",
   "metadata": {},
   "outputs": [],
   "source": [
    "x = 3\n",
    "y = 5"
   ]
  },
  {
   "cell_type": "code",
   "execution_count": 14,
   "id": "3814c8a2-e55e-4941-b976-347b5088a29b",
   "metadata": {},
   "outputs": [
    {
     "data": {
      "text/plain": [
       "8"
      ]
     },
     "execution_count": 14,
     "metadata": {},
     "output_type": "execute_result"
    }
   ],
   "source": [
    "x + y"
   ]
  },
  {
   "cell_type": "code",
   "execution_count": 15,
   "id": "b71c25f1-0f39-42ef-88f6-10ee2e7d73fa",
   "metadata": {},
   "outputs": [
    {
     "data": {
      "text/plain": [
       "2"
      ]
     },
     "execution_count": 15,
     "metadata": {},
     "output_type": "execute_result"
    }
   ],
   "source": [
    "y - x"
   ]
  },
  {
   "cell_type": "code",
   "execution_count": 20,
   "id": "590d734b-3f64-402f-b35b-afe50ecbb0a4",
   "metadata": {},
   "outputs": [
    {
     "data": {
      "text/plain": [
       "15"
      ]
     },
     "execution_count": 20,
     "metadata": {},
     "output_type": "execute_result"
    }
   ],
   "source": [
    "x * y"
   ]
  },
  {
   "cell_type": "code",
   "execution_count": 21,
   "id": "6ed7e0c1-f0a3-4b9c-9f6f-24073b69aa02",
   "metadata": {},
   "outputs": [
    {
     "data": {
      "text/plain": [
       "0.6"
      ]
     },
     "execution_count": 21,
     "metadata": {},
     "output_type": "execute_result"
    }
   ],
   "source": [
    "x/y"
   ]
  },
  {
   "cell_type": "code",
   "execution_count": 4,
   "id": "cb5a27b2-bb22-45c1-b546-7b859d97934f",
   "metadata": {},
   "outputs": [
    {
     "ename": "NameError",
     "evalue": "name 'y' is not defined",
     "output_type": "error",
     "traceback": [
      "\u001b[1;31m---------------------------------------------------------------------------\u001b[0m",
      "\u001b[1;31mNameError\u001b[0m                                 Traceback (most recent call last)",
      "Cell \u001b[1;32mIn[4], line 2\u001b[0m\n\u001b[0;32m      1\u001b[0m \u001b[38;5;66;03m#exponential\u001b[39;00m\n\u001b[1;32m----> 2\u001b[0m y\u001b[38;5;241m*\u001b[39m\u001b[38;5;241m*\u001b[39mx\n",
      "\u001b[1;31mNameError\u001b[0m: name 'y' is not defined"
     ]
    }
   ],
   "source": [
    "#exponential\n",
    "y**x"
   ]
  },
  {
   "cell_type": "code",
   "execution_count": 27,
   "id": "c3491913-9910-4dd8-ae24-6308365a2ba4",
   "metadata": {},
   "outputs": [
    {
     "data": {
      "text/plain": [
       "243"
      ]
     },
     "execution_count": 27,
     "metadata": {},
     "output_type": "execute_result"
    }
   ],
   "source": [
    "pow(x,y)"
   ]
  },
  {
   "cell_type": "code",
   "execution_count": 29,
   "id": "c5348131-e061-41d6-97fa-42eb75e8db5f",
   "metadata": {},
   "outputs": [
    {
     "data": {
      "text/plain": [
       "0"
      ]
     },
     "execution_count": 29,
     "metadata": {},
     "output_type": "execute_result"
    }
   ],
   "source": [
    "#quotient\n",
    "x//y"
   ]
  },
  {
   "cell_type": "code",
   "execution_count": 31,
   "id": "543a8b39-7363-43c6-b332-93ddb52130ab",
   "metadata": {},
   "outputs": [
    {
     "data": {
      "text/plain": [
       "3"
      ]
     },
     "execution_count": 31,
     "metadata": {},
     "output_type": "execute_result"
    }
   ],
   "source": [
    "#modulus\n",
    "\n",
    "x%y"
   ]
  },
  {
   "cell_type": "markdown",
   "id": "5478d04f-94b3-4445-973a-431e077dbbbf",
   "metadata": {},
   "source": [
    "# Data types"
   ]
  },
  {
   "cell_type": "code",
   "execution_count": 32,
   "id": "e251d841-d6a6-4f63-97e0-dc355f12e58a",
   "metadata": {},
   "outputs": [],
   "source": [
    "x = 40"
   ]
  },
  {
   "cell_type": "code",
   "execution_count": 35,
   "id": "18dff9eb-530f-4313-acc9-8f250a8acbc0",
   "metadata": {},
   "outputs": [
    {
     "data": {
      "text/plain": [
       "int"
      ]
     },
     "execution_count": 35,
     "metadata": {},
     "output_type": "execute_result"
    }
   ],
   "source": [
    "type(x)"
   ]
  },
  {
   "cell_type": "code",
   "execution_count": 44,
   "id": "8968e1d7-8220-4d8d-8a6c-f1cac000b805",
   "metadata": {},
   "outputs": [],
   "source": [
    "x = '10/3'"
   ]
  },
  {
   "cell_type": "code",
   "execution_count": 48,
   "id": "db5439f1-cce1-4c5d-8bd0-73924d966b6e",
   "metadata": {},
   "outputs": [
    {
     "data": {
      "text/plain": [
       "str"
      ]
     },
     "execution_count": 48,
     "metadata": {},
     "output_type": "execute_result"
    }
   ],
   "source": [
    "type(x)"
   ]
  },
  {
   "cell_type": "code",
   "execution_count": 50,
   "id": "f731a6a6-b973-41d6-83b9-3786803e198a",
   "metadata": {},
   "outputs": [],
   "source": [
    "x=10.3"
   ]
  },
  {
   "cell_type": "code",
   "execution_count": 52,
   "id": "ab23cea8-a80c-4a81-8a56-be045f599422",
   "metadata": {},
   "outputs": [
    {
     "data": {
      "text/plain": [
       "float"
      ]
     },
     "execution_count": 52,
     "metadata": {},
     "output_type": "execute_result"
    }
   ],
   "source": [
    "type(x)"
   ]
  },
  {
   "cell_type": "code",
   "execution_count": 63,
   "id": "6b9c364a-f032-48bb-a29b-1d3a25d67ec0",
   "metadata": {},
   "outputs": [],
   "source": [
    "x = True"
   ]
  },
  {
   "cell_type": "code",
   "execution_count": 66,
   "id": "8991578e-1a0d-4c7e-a010-6ef46ce206d2",
   "metadata": {},
   "outputs": [
    {
     "data": {
      "text/plain": [
       "bool"
      ]
     },
     "execution_count": 66,
     "metadata": {},
     "output_type": "execute_result"
    }
   ],
   "source": [
    "type (x)"
   ]
  },
  {
   "cell_type": "code",
   "execution_count": 67,
   "id": "dd72677b-b18e-4539-8d55-9a83761c9c01",
   "metadata": {},
   "outputs": [],
   "source": [
    "x = 4 + 3j"
   ]
  },
  {
   "cell_type": "code",
   "execution_count": 71,
   "id": "dc7c897e-f4f4-4673-8ce9-06fba64b7004",
   "metadata": {},
   "outputs": [
    {
     "data": {
      "text/plain": [
       "complex"
      ]
     },
     "execution_count": 71,
     "metadata": {},
     "output_type": "execute_result"
    }
   ],
   "source": [
    "type(x)"
   ]
  },
  {
   "cell_type": "code",
   "execution_count": 81,
   "id": "45309ff0-6119-4dfe-967d-81b4a8b3e732",
   "metadata": {},
   "outputs": [],
   "source": [
    "x = { 3, 4,5, ' hello'}"
   ]
  },
  {
   "cell_type": "code",
   "execution_count": 82,
   "id": "c513515f-424b-471e-bde5-ffbfdfc06a66",
   "metadata": {},
   "outputs": [
    {
     "data": {
      "text/plain": [
       "{' hello', 3, 4, 5}"
      ]
     },
     "execution_count": 82,
     "metadata": {},
     "output_type": "execute_result"
    }
   ],
   "source": [
    "x"
   ]
  },
  {
   "cell_type": "code",
   "execution_count": 84,
   "id": "28a52623-307e-4f2d-b991-e3435d16cbe7",
   "metadata": {},
   "outputs": [
    {
     "data": {
      "text/plain": [
       "set"
      ]
     },
     "execution_count": 84,
     "metadata": {},
     "output_type": "execute_result"
    }
   ],
   "source": [
    "type(x)"
   ]
  },
  {
   "cell_type": "code",
   "execution_count": 87,
   "id": "6f154d64-0162-4ddb-8c8f-57872728419d",
   "metadata": {},
   "outputs": [],
   "source": [
    "x = ( 1,2,3,'hello')"
   ]
  },
  {
   "cell_type": "code",
   "execution_count": 88,
   "id": "4fbf1051-4836-49d4-9961-d5cf79763efa",
   "metadata": {},
   "outputs": [
    {
     "data": {
      "text/plain": [
       "(1, 2, 3, 'hello')"
      ]
     },
     "execution_count": 88,
     "metadata": {},
     "output_type": "execute_result"
    }
   ],
   "source": [
    "x"
   ]
  },
  {
   "cell_type": "code",
   "execution_count": 91,
   "id": "f24269d0-380a-421b-acbe-ca3142547cb1",
   "metadata": {},
   "outputs": [
    {
     "data": {
      "text/plain": [
       "tuple"
      ]
     },
     "execution_count": 91,
     "metadata": {},
     "output_type": "execute_result"
    }
   ],
   "source": [
    "type(x)"
   ]
  },
  {
   "cell_type": "code",
   "execution_count": 10,
   "id": "11ec59f0-348d-4872-a1b1-ebd913a8162b",
   "metadata": {},
   "outputs": [],
   "source": [
    "x = [1,2,4, 'hello']"
   ]
  },
  {
   "cell_type": "code",
   "execution_count": null,
   "id": "404951a7-86af-4bbe-94da-996b24ec0b34",
   "metadata": {},
   "outputs": [],
   "source": []
  }
 ],
 "metadata": {
  "kernelspec": {
   "display_name": "Python 3 (ipykernel)",
   "language": "python",
   "name": "python3"
  },
  "language_info": {
   "codemirror_mode": {
    "name": "ipython",
    "version": 3
   },
   "file_extension": ".py",
   "mimetype": "text/x-python",
   "name": "python",
   "nbconvert_exporter": "python",
   "pygments_lexer": "ipython3",
   "version": "3.12.9"
  }
 },
 "nbformat": 4,
 "nbformat_minor": 5
}
